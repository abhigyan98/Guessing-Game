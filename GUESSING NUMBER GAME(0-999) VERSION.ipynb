{
 "cells": [
  {
   "cell_type": "code",
   "execution_count": 3,
   "metadata": {},
   "outputs": [
    {
     "name": "stdout",
     "output_type": "stream",
     "text": [
      "Welcome to the guessing game! The computer will generate a no between 0-5. u'll need to guess a no in that range>>\n",
      "Do u want to play this game?y/ny\n",
      "Hello friend.Please enter ur name to start the game:>>>as\n",
      "Enter no between 0-9:6\n",
      "omg! u guessed incorrectly.Play the penalty game:\n",
      "Enter a no between 0-999:555\n",
      "UR no is between 73 - 90\n",
      "Enter no:79\n",
      "UR no is between 84 - 88\n",
      "Enter no:86\n",
      "omg! u guessed correctly.took u 4  times.\n",
      "Check out ur friends score: [{'as': 4}]\n",
      "Do u want to play this game?y/ny\n",
      "Hello friend.Please enter ur name to start the game:>>>bc\n",
      "Enter no between 0-9:6\n",
      "omg! u guessed incorrectly.Play the penalty game:\n",
      "Enter a no between 0-999:677\n",
      "UR no is between 800 - 809\n",
      "Enter no:805\n",
      "UR no is between 801 - 808\n",
      "Enter no:807\n",
      "omg! u guessed correctly.took u 4  times.\n",
      "Check out ur friends score: [{'bc': 4}]\n",
      "Do u want to play this game?y/nn\n",
      "its seems that i don,t have any friends!\n"
     ]
    }
   ],
   "source": [
    "import random as rd\n",
    "print(\"Welcome to the guessing game! The computer will generate a no between 0-5. u'll need to guess a no in that \"\n",
    "      \"range>>\")\n",
    "while(1):\n",
    "    ch=input(\"Do u want to play this game?y/n:\")\n",
    "    if(ch=='y'):\n",
    "        log={}\n",
    "        list1=[]\n",
    "        name=input(\"Hello friend.Please enter ur name to start the game:>>>\")\n",
    "        i=rd.randint(0,9)\n",
    "        n1=int(input(\"Enter no between 0-9:\"))\n",
    "        if(i==n1):\n",
    "            z=1\n",
    "            print(\"omg! u guessed correctly. That'a insane man!u did it in\",z,\"time!\")\n",
    "        else:\n",
    "            print(\"omg! u guessed incorrectly.Play the penalty game:\")\n",
    "            j=rd.randint(0,99)\n",
    "            n2 = int(input(\"Enter a no between 0-999:\"))\n",
    "            k=(i*100+j)\n",
    "            if(k==n2):\n",
    "                z=2\n",
    "                print(\"omg! u guessed correctly.Congrats.U win!! took u\",z,\"times!\")\n",
    "            else:\n",
    "                r=int(k/10)\n",
    "                r*=10\n",
    "                r-=rd.randint(0,10)\n",
    "                t=k+rd.randint(0,10)\n",
    "                z = 2\n",
    "                while(True):\n",
    "                    z+=1\n",
    "                    print(\"UR no is between\",r, \"-\",t)\n",
    "                    n3=int(input(\"Enter no:\"))\n",
    "                    if(k==n3):\n",
    "                        print(\"omg! u guessed correctly.took u\",z,\" times.\")\n",
    "                        break\n",
    "                    else:\n",
    "                        r=rd.randint(r,k-1)\n",
    "                        t=rd.randint(k+1,t)\n",
    "        log[name]=z\n",
    "        list1.append(log)\n",
    "        print(\"Check out ur friends score:\",list1)\n",
    "    else:\n",
    "        print(\"its seems that i don,t have any friends!\")\n",
    "        break"
   ]
  },
  {
   "cell_type": "code",
   "execution_count": null,
   "metadata": {},
   "outputs": [],
   "source": []
  }
 ],
 "metadata": {
  "kernelspec": {
   "display_name": "Python 3",
   "language": "python",
   "name": "python3"
  },
  "language_info": {
   "codemirror_mode": {
    "name": "ipython",
    "version": 3
   },
   "file_extension": ".py",
   "mimetype": "text/x-python",
   "name": "python",
   "nbconvert_exporter": "python",
   "pygments_lexer": "ipython3",
   "version": "3.6.5"
  }
 },
 "nbformat": 4,
 "nbformat_minor": 2
}
